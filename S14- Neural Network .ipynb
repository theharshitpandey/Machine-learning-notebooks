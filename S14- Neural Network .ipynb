{
 "cells": [
  {
   "cell_type": "markdown",
   "id": "88e053cb",
   "metadata": {},
   "source": [
    "Tensorflow: is a deep learning or numerical computing library.  \n",
    "\n",
    "Deep learning is more suited to unstructured data, such as photos, audio waves or natural language text.  \n",
    "\n",
    "##### Why tensorflow !!\n",
    "1- write fast deep learning code in python (able to run on a GPU)  \n",
    "2- able to access many pre-built deep learning models  \n",
    "3- whole stack: preprocess, model, deploy  \n",
    "4- originally designed and used in house by google (now open source)"
   ]
  },
  {
   "cell_type": "markdown",
   "id": "d7537196",
   "metadata": {},
   "source": [
    "#### What is a GPU ?\n",
    "1- its a Graphical Processing Unit  \n",
    "2- its a lot faster than a regular CPU is at doing numerical computing  \n"
   ]
  },
  {
   "cell_type": "markdown",
   "id": "4778d426",
   "metadata": {},
   "source": [
    "#### What is transfer learning & why ?\n",
    "1- take what you know in one domain and apply it to another.  \n",
    "2- starting from scratch can be expensive and time consuming.  \n",
    "3- why not take advantage of what's already out there  "
   ]
  },
  {
   "cell_type": "markdown",
   "id": "bbb537ab",
   "metadata": {},
   "source": [
    "#### Tensorflow workflow \n",
    "1- get data ready (turn into tensors)  \n",
    "2- pick a model  \n",
    "3- fill the model to the data and make a prediction  \n",
    "4- evaluate the model  \n",
    "5- improve through experimentation   \n",
    "6- save and reload your trained model  "
   ]
  },
  {
   "cell_type": "markdown",
   "id": "85a79846",
   "metadata": {},
   "source": [
    "---------------------------------------------------"
   ]
  },
  {
   "cell_type": "markdown",
   "id": "637968d5",
   "metadata": {},
   "source": [
    "## Switching to GOOGLE COLLAB (strong GPU)"
   ]
  },
  {
   "cell_type": "code",
   "execution_count": null,
   "id": "1e2f911e",
   "metadata": {},
   "outputs": [],
   "source": []
  }
 ],
 "metadata": {
  "kernelspec": {
   "display_name": "Python 3 (ipykernel)",
   "language": "python",
   "name": "python3"
  },
  "language_info": {
   "codemirror_mode": {
    "name": "ipython",
    "version": 3
   },
   "file_extension": ".py",
   "mimetype": "text/x-python",
   "name": "python",
   "nbconvert_exporter": "python",
   "pygments_lexer": "ipython3",
   "version": "3.8.11"
  }
 },
 "nbformat": 4,
 "nbformat_minor": 5
}
