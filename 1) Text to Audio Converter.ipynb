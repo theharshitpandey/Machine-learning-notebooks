{
 "cells": [
  {
   "cell_type": "markdown",
   "id": "fce2b1cc",
   "metadata": {},
   "source": [
    "gTTS= google Text to speech"
   ]
  },
  {
   "cell_type": "code",
   "execution_count": 10,
   "id": "64c79c47",
   "metadata": {},
   "outputs": [],
   "source": [
    "from gtts import gTTS"
   ]
  },
  {
   "cell_type": "markdown",
   "id": "035ea5f4",
   "metadata": {},
   "source": [
    "os module is imported so that we can play the converted audio using device speakers"
   ]
  },
  {
   "cell_type": "code",
   "execution_count": 11,
   "id": "4f820f49",
   "metadata": {},
   "outputs": [],
   "source": [
    "import os"
   ]
  },
  {
   "cell_type": "code",
   "execution_count": 46,
   "id": "dab22150",
   "metadata": {},
   "outputs": [],
   "source": [
    "mytext= \"Welcome to my world! Hope you are doing good\""
   ]
  },
  {
   "cell_type": "markdown",
   "id": "9c23a390",
   "metadata": {},
   "source": [
    "\"en\" i.e english is the defalut language"
   ]
  },
  {
   "cell_type": "code",
   "execution_count": 47,
   "id": "e4204341",
   "metadata": {},
   "outputs": [],
   "source": [
    "language=\"en\""
   ]
  },
  {
   "cell_type": "markdown",
   "id": "7be70094",
   "metadata": {},
   "source": [
    "slow= false means converted audio should have a high speed"
   ]
  },
  {
   "cell_type": "code",
   "execution_count": 48,
   "id": "c7bfa741",
   "metadata": {},
   "outputs": [],
   "source": [
    "audio1=gTTS(text=mytext,lang=language,slow=False)"
   ]
  },
  {
   "cell_type": "code",
   "execution_count": 49,
   "id": "6cf97702",
   "metadata": {},
   "outputs": [],
   "source": [
    "audio1.save(\"welcome.mp3\")"
   ]
  },
  {
   "cell_type": "code",
   "execution_count": 50,
   "id": "5855e9e3",
   "metadata": {},
   "outputs": [
    {
     "data": {
      "text/plain": [
       "0"
      ]
     },
     "execution_count": 50,
     "metadata": {},
     "output_type": "execute_result"
    }
   ],
   "source": [
    "os.system(\"welcome.mp3\")"
   ]
  },
  {
   "cell_type": "code",
   "execution_count": null,
   "id": "df956abd",
   "metadata": {},
   "outputs": [],
   "source": []
  },
  {
   "cell_type": "markdown",
   "id": "d342cab9",
   "metadata": {},
   "source": [
    "-----------------------------------------------------------"
   ]
  },
  {
   "cell_type": "code",
   "execution_count": 51,
   "id": "30c67f6d",
   "metadata": {},
   "outputs": [],
   "source": [
    "text= \"नमस्ते,आशा करता हूँ की आप अच्छे हो\"\n",
    "m2=gTTS(text=text,lang=\"hi\")\n",
    "m2.save(\"welcome2.mp3\")"
   ]
  },
  {
   "cell_type": "code",
   "execution_count": 52,
   "id": "750f543c",
   "metadata": {},
   "outputs": [
    {
     "data": {
      "text/plain": [
       "0"
      ]
     },
     "execution_count": 52,
     "metadata": {},
     "output_type": "execute_result"
    }
   ],
   "source": [
    "os.system(\"welcome2.mp3\")"
   ]
  },
  {
   "cell_type": "code",
   "execution_count": null,
   "id": "afd4ea97",
   "metadata": {},
   "outputs": [],
   "source": []
  }
 ],
 "metadata": {
  "kernelspec": {
   "display_name": "Python 3 (ipykernel)",
   "language": "python",
   "name": "python3"
  },
  "language_info": {
   "codemirror_mode": {
    "name": "ipython",
    "version": 3
   },
   "file_extension": ".py",
   "mimetype": "text/x-python",
   "name": "python",
   "nbconvert_exporter": "python",
   "pygments_lexer": "ipython3",
   "version": "3.8.11"
  }
 },
 "nbformat": 4,
 "nbformat_minor": 5
}
