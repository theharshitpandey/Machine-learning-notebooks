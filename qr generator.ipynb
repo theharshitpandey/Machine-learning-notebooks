{
 "cells": [
  {
   "cell_type": "code",
   "execution_count": 2,
   "id": "76b603b3",
   "metadata": {},
   "outputs": [
    {
     "name": "stdout",
     "output_type": "stream",
     "text": [
      "Collecting qrcodeNote: you may need to restart the kernel to use updated packages.\n",
      "\n",
      "  Downloading qrcode-7.4.2-py3-none-any.whl (46 kB)\n",
      "     ---------------------------------------- 46.2/46.2 kB 2.2 MB/s eta 0:00:00\n",
      "Requirement already satisfied: colorama in c:\\users\\harsh\\anaconda3\\lib\\site-packages (from qrcode) (0.4.6)\n",
      "Collecting pypng\n",
      "  Downloading pypng-0.20220715.0-py3-none-any.whl (58 kB)\n",
      "     ---------------------------------------- 58.1/58.1 kB 3.2 MB/s eta 0:00:00\n",
      "Requirement already satisfied: typing-extensions in c:\\users\\harsh\\anaconda3\\lib\\site-packages (from qrcode) (4.4.0)\n",
      "Installing collected packages: pypng, qrcode\n",
      "Successfully installed pypng-0.20220715.0 qrcode-7.4.2\n"
     ]
    }
   ],
   "source": [
    "#pip install qrcode"
   ]
  },
  {
   "cell_type": "code",
   "execution_count": 3,
   "id": "8bb05f74",
   "metadata": {},
   "outputs": [],
   "source": [
    "import qrcode"
   ]
  },
  {
   "cell_type": "code",
   "execution_count": null,
   "id": "2fc0175c",
   "metadata": {},
   "outputs": [],
   "source": [
    "img= qrcode.make(\"https://www.linkedin.com/in/theharshitpandey\")\n",
    "img.save(\"mylinkedincode.png\")\n",
    "img.show()"
   ]
  }
 ],
 "metadata": {
  "kernelspec": {
   "display_name": "Python 3 (ipykernel)",
   "language": "python",
   "name": "python3"
  },
  "language_info": {
   "codemirror_mode": {
    "name": "ipython",
    "version": 3
   },
   "file_extension": ".py",
   "mimetype": "text/x-python",
   "name": "python",
   "nbconvert_exporter": "python",
   "pygments_lexer": "ipython3",
   "version": "3.10.9"
  }
 },
 "nbformat": 4,
 "nbformat_minor": 5
}
